{
 "cells": [
  {
   "cell_type": "markdown",
   "id": "537a2127",
   "metadata": {},
   "source": [
    "# TCLab_Test"
   ]
  },
  {
   "cell_type": "code",
   "execution_count": 6,
   "id": "4e39bd0d",
   "metadata": {},
   "outputs": [],
   "source": [
    "import tclab\n",
    "import time"
   ]
  },
  {
   "cell_type": "markdown",
   "id": "686db4fa",
   "metadata": {},
   "source": [
    "# Connect to TCLab"
   ]
  },
  {
   "cell_type": "code",
   "execution_count": 8,
   "id": "ee4f7dbf",
   "metadata": {},
   "outputs": [
    {
     "name": "stdout",
     "output_type": "stream",
     "text": [
      "TCLab version 1.0.0\n",
      "Arduino Leonardo connected on port COM11 at 115200 baud.\n",
      "TCLab Firmware 1.4.3 Arduino Leonardo/Micro.\n",
      "26.38\n",
      "27.21\n",
      "TCLab disconnected successfully.\n"
     ]
    }
   ],
   "source": [
    "lab = tclab.TCLab()\n",
    "\n",
    "lab.Q1(50)\n",
    "lab.Q2(50)\n",
    "\n",
    "time.sleep(20)\n",
    "\n",
    "print(lab.T1)\n",
    "print(lab.T2)\n",
    "\n",
    "lab.close() # Disconnect from TCLab"
   ]
  },
  {
   "cell_type": "code",
   "execution_count": null,
   "id": "e1cb8e7b-1eff-47a0-8c42-2300c4e1ab52",
   "metadata": {},
   "outputs": [],
   "source": []
  }
 ],
 "metadata": {
  "kernelspec": {
   "display_name": "Python 3 (ipykernel)",
   "language": "python",
   "name": "python3"
  },
  "language_info": {
   "codemirror_mode": {
    "name": "ipython",
    "version": 3
   },
   "file_extension": ".py",
   "mimetype": "text/x-python",
   "name": "python",
   "nbconvert_exporter": "python",
   "pygments_lexer": "ipython3",
   "version": "3.11.7"
  }
 },
 "nbformat": 4,
 "nbformat_minor": 5
}
