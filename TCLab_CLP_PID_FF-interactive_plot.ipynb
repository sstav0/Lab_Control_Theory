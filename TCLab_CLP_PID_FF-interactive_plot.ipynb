{
 "cells": [
  {
   "cell_type": "markdown",
   "metadata": {},
   "source": [
    "# **TCLab Closed-Loop PID with FeedForward**"
   ]
  },
  {
   "cell_type": "code",
   "execution_count": 29,
   "metadata": {},
   "outputs": [],
   "source": [
    "import pandas as pd\n",
    "import numpy as np\n",
    "import matplotlib.pyplot as plt\n",
    "from matplotlib import colors as mcolors\n",
    "import time\n",
    "import tclab\n",
    "\n",
    "import package_LAB\n",
    "from importlib import reload\n",
    "package_LAB = reload(package_LAB)\n",
    "\n",
    "from package_LAB import LL_RT, PID_RT, IMCTuning\n",
    "from package_DBR import SelectPath_RT, Delay_RT, FO_RT"
   ]
  },
  {
   "cell_type": "code",
   "execution_count": 30,
   "metadata": {},
   "outputs": [],
   "source": [
    "#plotly imports\n",
    "import plotly.graph_objects as go\n",
    "from plotly.subplots import make_subplots\n",
    "from ipywidgets import interactive, VBox, IntRangeSlider, IntSlider, Checkbox, interactive_output"
   ]
  },
  {
   "cell_type": "markdown",
   "metadata": {},
   "source": [
    "## TCLab parameters"
   ]
  },
  {
   "cell_type": "code",
   "execution_count": 31,
   "metadata": {},
   "outputs": [
    {
     "name": "stdout",
     "output_type": "stream",
     "text": [
      "Kc: 5.33426261068635, TI: 183.81942938047126, TD: 3.2920224028340946e-12\n",
      "TCLab version 1.0.0\n",
      "--- Serial Ports ---\n"
     ]
    },
    {
     "ename": "RuntimeError",
     "evalue": "No Arduino device found.",
     "output_type": "error",
     "traceback": [
      "\u001b[1;31m---------------------------------------------------------------------------\u001b[0m",
      "\u001b[1;31mRuntimeError\u001b[0m                              Traceback (most recent call last)",
      "Cell \u001b[1;32mIn[31], line 31\u001b[0m\n\u001b[0;32m     28\u001b[0m \u001b[38;5;28mprint\u001b[39m(\u001b[38;5;124mf\u001b[39m\u001b[38;5;124m\"\u001b[39m\u001b[38;5;124mKc: \u001b[39m\u001b[38;5;132;01m{\u001b[39;00mKc\u001b[38;5;132;01m}\u001b[39;00m\u001b[38;5;124m, TI: \u001b[39m\u001b[38;5;132;01m{\u001b[39;00mTI\u001b[38;5;132;01m}\u001b[39;00m\u001b[38;5;124m, TD: \u001b[39m\u001b[38;5;132;01m{\u001b[39;00mTD\u001b[38;5;132;01m}\u001b[39;00m\u001b[38;5;124m\"\u001b[39m)\n\u001b[0;32m     30\u001b[0m \u001b[38;5;66;03m# Create a controller\u001b[39;00m\n\u001b[1;32m---> 31\u001b[0m lab \u001b[38;5;241m=\u001b[39m \u001b[43mtclab\u001b[49m\u001b[38;5;241;43m.\u001b[39;49m\u001b[43mTCLab\u001b[49m\u001b[43m(\u001b[49m\u001b[43m)\u001b[49m\n",
      "File \u001b[1;32mc:\\Users\\xavier\\AppData\\Local\\Programs\\Python\\Python312\\Lib\\site-packages\\tclab\\tclab.py:61\u001b[0m, in \u001b[0;36mTCLab.__init__\u001b[1;34m(self, port, debug)\u001b[0m\n\u001b[0;32m     59\u001b[0m \u001b[38;5;28mself\u001b[39m\u001b[38;5;241m.\u001b[39mport, \u001b[38;5;28mself\u001b[39m\u001b[38;5;241m.\u001b[39marduino \u001b[38;5;241m=\u001b[39m find_arduino(port)\n\u001b[0;32m     60\u001b[0m \u001b[38;5;28;01mif\u001b[39;00m \u001b[38;5;28mself\u001b[39m\u001b[38;5;241m.\u001b[39mport \u001b[38;5;129;01mis\u001b[39;00m \u001b[38;5;28;01mNone\u001b[39;00m:\n\u001b[1;32m---> 61\u001b[0m     \u001b[38;5;28;01mraise\u001b[39;00m \u001b[38;5;167;01mRuntimeError\u001b[39;00m(\u001b[38;5;124m'\u001b[39m\u001b[38;5;124mNo Arduino device found.\u001b[39m\u001b[38;5;124m'\u001b[39m)\n\u001b[0;32m     63\u001b[0m \u001b[38;5;28;01mtry\u001b[39;00m:\n\u001b[0;32m     64\u001b[0m     \u001b[38;5;28mself\u001b[39m\u001b[38;5;241m.\u001b[39mconnect(baud\u001b[38;5;241m=\u001b[39m\u001b[38;5;241m115200\u001b[39m)\n",
      "\u001b[1;31mRuntimeError\u001b[0m: No Arduino device found."
     ]
    }
   ],
   "source": [
    "#DV \n",
    "Kp_ODV_SOPDT = 0.2951290424136788\n",
    "T1_ODV_SOPDT = 182.2549613489765\n",
    "T2_ODV_SOPDT = 13.184430234847984\n",
    "theta_ODV_SOPDT = 28.999891911961512\n",
    "\n",
    "#MV\n",
    "Kp_OMV_SOPDT = 0.30788564834253684\n",
    "T1_OMV_SOPDT = 183.81942938046797\n",
    "T2_OMV_SOPDT = 3.2920224028341535e-12\n",
    "theta_OMV_SOPDT = 20.015407110302775\n",
    "\n",
    "#Operating points \n",
    "DV0 = 50 \n",
    "MV0 = 50\n",
    "PV0 = 49.3\n",
    "\n",
    "# Set maximum and minimum MV values\n",
    "MVmin = 0\n",
    "MVmax = 100\n",
    "\n",
    "# Coefficients\n",
    "alpha = 0.7\n",
    "gamma = 0.5\n",
    "\n",
    "#IMC Tuning\n",
    "Kc, TI, TD = IMCTuning(Kp_OMV_SOPDT, T1_OMV_SOPDT, T2_OMV_SOPDT, theta_OMV_SOPDT, gamma, model=\"SOPDT\")\n",
    "print(f\"Kc: {Kc}, TI: {TI}, TD: {TD}\")\n",
    "\n",
    "# Create a controller\n",
    "lab = tclab.TCLab()"
   ]
  },
  {
   "cell_type": "markdown",
   "metadata": {},
   "source": [
    "## Arrays, Paths and Variables Initialization"
   ]
  },
  {
   "cell_type": "code",
   "execution_count": null,
   "metadata": {},
   "outputs": [],
   "source": [
    "t = []\n",
    "\n",
    "SP = []\n",
    "PV = []\n",
    "MAN = []\n",
    "MV_MAN = []\n",
    "DV = []\n",
    "MVFF = []\n",
    "MV = []\n",
    "MVp = []\n",
    "MVi = []\n",
    "MVd = []\n",
    "E = []\n",
    "PV_p = []\n",
    "PV_d = []\n",
    "\n",
    "MVFF_Delay = []\n",
    "MVFF_LL1 = []\n",
    "MV_Delay_P = []\n",
    "MV_FO_P = []\n",
    "MV_Delay_D = []\n",
    "MV_FO_D = []\n",
    "\n",
    "#default scenario\n",
    "SPPath = {0: PV0}\n",
    "ManPath = {0: False}\n",
    "MVManPath = {0: MV0}\n",
    "DVPath = {0: DV0}\n",
    "FF = True\n",
    "ManFF = False # Not needed\n",
    "\n",
    "#Time parameters\n",
    "TSim = 3000\n",
    "Ts = 1    \n",
    "N = int(TSim/Ts) + 1 \n"
   ]
  },
  {
   "cell_type": "markdown",
   "metadata": {},
   "source": [
    "## PID and plot"
   ]
  },
  {
   "cell_type": "code",
   "execution_count": null,
   "metadata": {},
   "outputs": [
    {
     "data": {
      "text/plain": [
       "layout.XAxis({\n",
       "    'anchor': 'y4', 'domain': [0.0, 1.0], 'title': {'text': 'Time (s)'}\n",
       "})"
      ]
     },
     "execution_count": 22,
     "metadata": {},
     "output_type": "execute_result"
    }
   ],
   "source": [
    "fig = go.FigureWidget(make_subplots(rows=4, cols=1, specs = [[{}], [{}], [{}], [{}]], vertical_spacing = 0.15, row_heights=[0.1, 0.4, 0.4, 0.1], subplot_titles=(\"Manual Mode\", \"MV and Components\", \"PV, SP and E\", \"Perturbation DV\")))\n",
    "fig.add_trace(go.Scatter(x=t, y=SP, name=\"SP\"), row=3, col=1)\n",
    "fig.add_trace(go.Scatter(x=t, y=PV, name=\"PV\"), row=3, col=1)\n",
    "fig.add_trace(go.Scatter(x=t, y=E, name=\"E\", line=dict(dash='dash')), row=3, col=1)\n",
    "fig.add_trace(go.Scatter(x=t, y=MV, name=\"MV\"), row=2, col=1)\n",
    "fig.add_trace(go.Scatter(x=t, y=MVp, name=\"MVp\", line=dict(dash='dash')), row=2, col=1)\n",
    "fig.add_trace(go.Scatter(x=t, y=MVi, name=\"MVi\", line=dict(dash='dash')), row=2, col=1)\n",
    "fig.add_trace(go.Scatter(x=t, y=MVd, name=\"MVd\", line=dict(dash='dash')), row=2, col=1)\n",
    "fig.add_trace(go.Scatter(x=t, y=MAN, name=\"Man\"), row=1, col=1)\n",
    "fig.add_trace(go.Scatter(x=t, y=MV_MAN, name=\"MVMan\"), row=1, col=1)\n",
    "fig.add_trace(go.Scatter(x=t, y=DV, name=\"DV\"), row=4, col=1)\n",
    "# Update layout\n",
    "fig['layout'].update(height=800, width=800)\n",
    "fig['layout']['xaxis1'].update(title='Time (s)')\n",
    "fig['layout']['yaxis1'].update(title='(°C)')\n",
    "fig['layout']['xaxis2'].update(title='Time (s)')\n",
    "fig['layout']['yaxis2'].update(title='MV (%)')\n",
    "fig['layout']['xaxis3'].update(title='Time (s)')\n",
    "fig['layout']['xaxis4'].update(title='Time (s)')\n"
   ]
  },
  {
   "cell_type": "code",
   "execution_count": null,
   "metadata": {},
   "outputs": [
    {
     "ename": "NameError",
     "evalue": "name 'TSim' is not defined",
     "output_type": "error",
     "traceback": [
      "\u001b[1;31m---------------------------------------------------------------------------\u001b[0m",
      "\u001b[1;31mNameError\u001b[0m                                 Traceback (most recent call last)",
      "Cell \u001b[1;32mIn[28], line 62\u001b[0m\n\u001b[0;32m     59\u001b[0m             fig\u001b[38;5;241m.\u001b[39mdata[\u001b[38;5;241m9\u001b[39m]\u001b[38;5;241m.\u001b[39my \u001b[38;5;241m=\u001b[39m DV\n\u001b[0;32m     60\u001b[0m             fig\n\u001b[1;32m---> 62\u001b[0m \u001b[43mRunExp\u001b[49m\u001b[43m(\u001b[49m\u001b[38;5;28;43;01mTrue\u001b[39;49;00m\u001b[43m)\u001b[49m\n",
      "Cell \u001b[1;32mIn[28], line 3\u001b[0m, in \u001b[0;36mRunExp\u001b[1;34m(Exp)\u001b[0m\n\u001b[0;32m      1\u001b[0m \u001b[38;5;28;01mdef\u001b[39;00m \u001b[38;5;21mRunExp\u001b[39m(Exp):\n\u001b[0;32m      2\u001b[0m     \u001b[38;5;28;01mif\u001b[39;00m Exp :\n\u001b[1;32m----> 3\u001b[0m         \u001b[38;5;28;01mfor\u001b[39;00m i \u001b[38;5;129;01min\u001b[39;00m \u001b[38;5;28mrange\u001b[39m(\u001b[38;5;241m0\u001b[39m, \u001b[43mTSim\u001b[49m):\n\u001b[0;32m      4\u001b[0m             t\u001b[38;5;241m.\u001b[39mappend(i \u001b[38;5;241m*\u001b[39m Ts)\n\u001b[0;32m      6\u001b[0m             \u001b[38;5;28;01mif\u001b[39;00m t[\u001b[38;5;241m-\u001b[39m\u001b[38;5;241m1\u001b[39m] \u001b[38;5;241m==\u001b[39m \u001b[38;5;241m0\u001b[39m:\n",
      "\u001b[1;31mNameError\u001b[0m: name 'TSim' is not defined"
     ]
    }
   ],
   "source": [
    "def RunExp(Exp):\n",
    "    if Exp :\n",
    "        for i in range(0, TSim):\n",
    "            t.append(i * Ts)\n",
    "            \n",
    "            if t[-1] == 0:\n",
    "                last_time = time.time()\n",
    "                \n",
    "            #Process value\n",
    "            PV.append(lab.T1)\n",
    "                \n",
    "            SelectPath_RT(SPPath, t, SP)\n",
    "            SelectPath_RT(ManPath, t, MAN)\n",
    "            SelectPath_RT(MVManPath, t, MV_MAN)\n",
    "            SelectPath_RT(DVPath, t, DV)\n",
    "            \n",
    "            #Apply DV\n",
    "            lab.Q2(DV[-1])\n",
    "            \n",
    "            \n",
    "            # FeedForward\n",
    "            Delay_RT(DV - DV0*np.ones_like(DV), max(theta_ODV_SOPDT-theta_OMV_SOPDT, 0), Ts, MVFF_Delay)\n",
    "            LL_RT(MVFF_Delay, -Kp_ODV_SOPDT/Kp_OMV_SOPDT, T1_OMV_SOPDT, T1_ODV_SOPDT, Ts, MVFF_LL1)\n",
    "            if FF == True:\n",
    "                LL_RT(MVFF_LL1, 1, T2_OMV_SOPDT, T2_ODV_SOPDT, Ts, MVFF)\n",
    "            else:\n",
    "                LL_RT(MVFF_LL1, 0, T2_OMV_SOPDT, T2_ODV_SOPDT, Ts, MVFF) # Set MVFF to 0 if FF is disabled\n",
    "            \n",
    "            # PID\n",
    "            PID_RT(SP, PV, MAN, MV_MAN, MVFF, Kc, TI, TD, alpha, Ts, MVmin, MVmax, MV, MVp, MVi, MVd, E, ManFF, PV0)\n",
    "            \n",
    "            #Manipulated value\n",
    "            lab.Q1(MV[-1])\n",
    "            \n",
    "            # wait to the next loop\n",
    "            elapsed = time.time() - last_time\n",
    "            time.sleep(max(0, Ts - elapsed))\n",
    "            last_time = time.time()\n",
    "            \n",
    "            fig.data[0].x = t\n",
    "            fig.data[0].y = SP\n",
    "            fig.data[1].x = t\n",
    "            fig.data[1].y = PV\n",
    "            fig.data[2].x = t\n",
    "            fig.data[2].y = E\n",
    "            fig.data[3].x = t\n",
    "            fig.data[3].y = MV\n",
    "            fig.data[4].x = t\n",
    "            fig.data[4].y = MVp\n",
    "            fig.data[5].x = t\n",
    "            fig.data[5].y = MVi\n",
    "            fig.data[6].x = t\n",
    "            fig.data[6].y = MVd\n",
    "            fig.data[7].x = t\n",
    "            fig.data[7].y = MAN\n",
    "            fig.data[8].x = t\n",
    "            fig.data[8].y = MV_MAN\n",
    "            fig.data[9].x = t\n",
    "            fig.data[9].y = DV\n",
    "            fig\n",
    "\n",
    "RunExp(True)\n",
    "\n",
    "\n",
    "    "
   ]
  }
 ],
 "metadata": {
  "kernelspec": {
   "display_name": "Python 3",
   "language": "python",
   "name": "python3"
  },
  "language_info": {
   "codemirror_mode": {
    "name": "ipython",
    "version": 3
   },
   "file_extension": ".py",
   "mimetype": "text/x-python",
   "name": "python",
   "nbconvert_exporter": "python",
   "pygments_lexer": "ipython3",
   "version": "3.12.2"
  }
 },
 "nbformat": 4,
 "nbformat_minor": 2
}
