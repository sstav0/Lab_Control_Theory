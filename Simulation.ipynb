{
 "cells": [
  {
   "cell_type": "markdown",
   "id": "abd1d70d-974e-43a3-b09a-c5d1b934c159",
   "metadata": {},
   "source": [
    "# **Simulation**\n"
   ]
  },
  {
   "cell_type": "code",
   "execution_count": 12,
   "id": "bdbbf1e3-f093-43de-8e09-9a5e3fbb05f1",
   "metadata": {},
   "outputs": [],
   "source": [
    "import numpy as np"
   ]
  },
  {
   "cell_type": "markdown",
   "id": "7d9ccf69-be55-42bd-8e93-4d05328dd479",
   "metadata": {},
   "source": [
    "## **Parameters**"
   ]
  },
  {
   "cell_type": "code",
   "execution_count": 13,
   "id": "5c601877-fd40-4814-a6ee-79f2ec9b1dd1",
   "metadata": {},
   "outputs": [],
   "source": [
    "t1 = 67\n",
    "t2 = 106\n",
    "Tu = 13.4\n",
    "Tg = 204.6\n",
    "a = 0.12\n",
    "\n",
    "#optional\n",
    "K = 0.38"
   ]
  },
  {
   "cell_type": "markdown",
   "id": "d4630917-0358-4292-ad72-3a688798dab0",
   "metadata": {},
   "source": [
    "### **Broida 1**"
   ]
  },
  {
   "cell_type": "code",
   "execution_count": 14,
   "id": "cf9e97ee-4526-49f8-8067-7235855b1190",
   "metadata": {},
   "outputs": [],
   "source": [
    "T_B1 = Tg \n",
    "theta_B1 = Tu\n",
    "\n",
    "print(f'Broida 1 : T = {T_B1}, theta = {theta_B1}')"
   ]
  },
  {
   "cell_type": "markdown",
   "id": "5732bf82-550f-4e62-86ce-4c80b216e601",
   "metadata": {},
   "source": [
    "### **Broida 2** "
   ]
  },
  {
   "cell_type": "code",
   "execution_count": 15,
   "id": "ba64fde1-b969-4754-9761-d3341dc0a89e",
   "metadata": {},
   "outputs": [],
   "source": [
    "T_B2 = 5.5*(t2-t1)\n",
    "theta_B2 = 2.8*t1 - 1.8*t2\n",
    "\n",
    "print(f'Broida 2 : T = {T_B2}, theta = {theta_B2}')"
   ]
  },
  {
   "cell_type": "markdown",
   "id": "f3529773-c090-422a-a602-27f8bf7c5315",
   "metadata": {},
   "source": [
    "### **van der Grinten**"
   ]
  },
  {
   "cell_type": "code",
   "execution_count": 16,
   "id": "0a8bfa5d-63e6-4916-9c1b-2139f2c01bab",
   "metadata": {},
   "outputs": [],
   "source": [
    "T1_G = Tg * (3 * a * np.exp(1) - 1)/(1 + a * np.exp(1))\n",
    "T2_G = Tg*(1-a*np.exp(1))/(1+a*np.exp(1))\n",
    "theta_G = Tu - (T1_G*T2_G)/(T1_G + 3*T2_G)\n",
    "\n",
    "print(f'van der Grinten : T1 = {T1_G}, T2 = {T2_G}, theta = {theta_G}')"
   ]
  },
  {
   "cell_type": "markdown",
   "id": "1e1810a0-78a4-4a39-a34e-2c4bcb582514",
   "metadata": {},
   "source": [
    "### **Strejc**"
   ]
  },
  {
   "cell_type": "code",
   "execution_count": 17,
   "id": "1ae5828f-be71-4ba8-8a8b-12db8f670226",
   "metadata": {},
   "outputs": [],
   "source": [
    "ratio = Tu/Tg\n",
    "\n",
    "#Computation of Strejc model parameters\n",
    "table_a = {1 : 0, 2 : 0.1, 3 : 0.22, 4 : 0.32, 5 : 0.41, 6 : 0.49, 7 : 0.57}\n",
    "table_b = {1 : 1, 2 : 2.72, 3 : 3.69, 4 : 4.46, 5 : 5.12, 6 : 5.7, 7 : 6.23} \n",
    "\n",
    "#Order\n",
    "n = 0\n",
    "\n",
    "for key, value in table_a.items() : \n",
    "    if value <= ratio and ratio < table_a[key+1] :\n",
    "        n = key\n",
    "\n",
    "a_n = table_a[n]\n",
    "b_n = table_b[n]\n",
    "\n",
    "T_S = Tg/b_n\n",
    "Tuth= a_n*Tg\n",
    "theta_S = Tu - Tuth\n",
    "\n",
    "print(f'Stretjc : order = {n}, T = {T_S}, theta"
   ]
  },
  {
   "cell_type": "code",
   "execution_count": null,
   "id": "40f19444-dbdd-495b-b07f-afc87029473e",
   "metadata": {},
   "outputs": [],
   "source": []
  }
 ],
 "metadata": {
  "kernelspec": {
   "display_name": "Python 3 (ipykernel)",
   "language": "python",
   "name": "python3"
  },
  "language_info": {
   "codemirror_mode": {
    "name": "ipython",
    "version": 3
   },
   "file_extension": ".py",
   "mimetype": "text/x-python",
   "name": "python",
   "nbconvert_exporter": "python",
   "pygments_lexer": "ipython3",
   "version": "3.11.7"
  }
 },
 "nbformat": 4,
 "nbformat_minor": 5
}
