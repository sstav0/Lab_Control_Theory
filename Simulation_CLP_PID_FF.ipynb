{
 "cells": [
  {
   "cell_type": "markdown",
   "metadata": {},
   "source": [
    "# **Simulation in closed-loop**"
   ]
  },
  {
   "cell_type": "code",
   "execution_count": 1,
   "metadata": {},
   "outputs": [],
   "source": [
    "import pandas as pd\n",
    "import numpy as np\n",
    "import matplotlib.pyplot as plt\n",
    "from matplotlib import colors as mcolors\n",
    "\n",
    "import package_LAB\n",
    "from importlib import reload\n",
    "package_LAB = reload(package_LAB)\n",
    "\n",
    "from package_LAB import LL_RT, PID_RT\n",
    "from package_DBR import SelectPath_RT, Delay_RT\n"
   ]
  },
  {
   "cell_type": "code",
   "execution_count": 2,
   "metadata": {},
   "outputs": [],
   "source": [
    "#plotly imports\n",
    "import plotly.graph_objects as go\n",
    "from plotly.subplots import make_subplots\n",
    "from ipywidgets import interactive, VBox"
   ]
  },
  {
   "cell_type": "markdown",
   "metadata": {},
   "source": [
    "## Simulation parameters"
   ]
  },
  {
   "cell_type": "code",
   "execution_count": 3,
   "metadata": {},
   "outputs": [],
   "source": [
    "TSim = 1000\n",
    "Ts = 0.5    \n",
    "N = int(TSim/Ts) + 1 "
   ]
  },
  {
   "cell_type": "markdown",
   "metadata": {},
   "source": [
    "## Dynamics and controller parameters"
   ]
  },
  {
   "cell_type": "code",
   "execution_count": 4,
   "metadata": {},
   "outputs": [],
   "source": [
    "#DV \n",
    "Kp_ODV_SOPDT = 0.2951290424136788\n",
    "T1_ODV_SOPDT = 182.2549613489765\n",
    "T2_ODV_SOPDT = 13.184430234847984\n",
    "theta_ODV_SOPDT = 28.999891911961512\n",
    "\n",
    "#MV\n",
    "Kp_OMV_SOPDT = 0.30788564834253684\n",
    "T1_OMV_SOPDT = 183.81942938046797\n",
    "T2_OMV_SOPDT = 3.2920224028341535e-12\n",
    "theta_OMV_SOPDT = 20.015407110302775\n",
    "\n",
    "#Operating points \n",
    "DV0 = 50 \n",
    "MV0 = 50\n",
    "PV0 = 49.3\n",
    "\n",
    "# Set maximum and minimum MV values\n",
    "MVmin = 0\n",
    "MVmax = 100"
   ]
  },
  {
   "cell_type": "markdown",
   "metadata": {},
   "source": [
    "## Scenarios"
   ]
  },
  {
   "cell_type": "code",
   "execution_count": 5,
   "metadata": {},
   "outputs": [],
   "source": [
    "# Scenarios :\n",
    "# Path for SP, MAN, MV_MAN, FF\n",
    "\n",
    "scenario = 6 #1 to 6\n",
    "\n",
    "if scenario == 1:\n",
    "    # scenario 1: Change in set point\n",
    "    ManPath = {0: True, 180: False}\n",
    "    MVmanPath = {0: 50}\n",
    "    SPPath = {0: PV0, 250: PV0+10}\n",
    "    FFPath = {0: False}\n",
    "    DVPATh = {0:50}\n",
    "elif scenario == 2:\n",
    "    # scenario 2: Manual mode no FF, response to perturbation\n",
    "    ManPath = {0: True}\n",
    "    MVmanPath = {0: 50}\n",
    "    SPPath = {0: PV0}\n",
    "    FFPath = {0: False}\n",
    "    DVPATh = {0:50, 500: 70}\n",
    "elif scenario == 3:\n",
    "    # scenario 3: Manual mode with FF, response to perturbation\n",
    "    ManPath = {0: True}\n",
    "    MVmanPath = {0: 50}\n",
    "    SPPath = {0: PV0}\n",
    "    FFPath = {0: True}\n",
    "    DVPATh = {0:50, 400: 70}\n",
    "elif scenario == 4:\n",
    "    # scenario 4: Automatic mode no FF, response to perturbation\n",
    "    ManPath = {0: False}\n",
    "    MVmanPath = {0: 50}\n",
    "    SPPath = {0: PV0}\n",
    "    FFPath = {0: False}\n",
    "    DVPATh = {0:50, 300: 70}\n",
    "elif scenario == 5:\n",
    "    # scenario 5: Automatic mode with FF, response to perturbation\n",
    "    ManPath = {0: False}\n",
    "    MVmanPath = {0: 50}\n",
    "    SPPath = {0: PV0}\n",
    "    FFPath = {0: True}\n",
    "    DVPATh = {0:50, 300: 70}\n",
    "elif scenario == 6:\n",
    "    # scenario 6: Automatic mode with FF, response to set point change and perturbation\n",
    "    SPPath = {0:PV0, 400: PV0+10}\n",
    "    ManPath = {0: False}\n",
    "    MVmanPath = {0: 0}\n",
    "    FFPath = {0: True}\n",
    "    DVPATh = {0:50, 650:30}"
   ]
  },
  {
   "cell_type": "markdown",
   "metadata": {},
   "source": [
    "## Running simulation"
   ]
  },
  {
   "cell_type": "code",
   "execution_count": 6,
   "metadata": {},
   "outputs": [],
   "source": [
    "#Initialize arrays of data\n",
    "t = []\n",
    "\n",
    "SP = []\n",
    "PV = []\n",
    "MAN = []\n",
    "MV_MAN = []\n",
    "FF = []\n",
    "PV_P = []\n",
    "DV = []\n",
    "PV_D = []\n",
    "MV_FF = []\n",
    "\n",
    "MV = []\n",
    "MVp = []\n",
    "MVi = []\n",
    "MVd = []\n",
    "E = []\n",
    "\n",
    "#intermediate MV values\n",
    "MV_P_delay = []\n",
    "MV_P_FO_delay = []\n",
    "MVFF_delay = []\n",
    "MVFF_LL = []\n",
    "MV_D_delay = []\n",
    "MV_D_FO_delay = []\n",
    "\n",
    "for i in range(0,N):\n",
    "    t.append(i*Ts)\n",
    "    SelectPath_RT(SPPath,t,SP)\n",
    "    SelectPath_RT(ManPath,t,MAN)\n",
    "    SelectPath_RT(MVmanPath,t,MV_MAN) \n",
    "    SelectPath_RT(FFPath,t,FF)\n",
    "    SelectPath_RT(DVPATh,t,DV)\n",
    "    \n",
    "    #Feed Forward\n",
    "    Delay_RT(DV-DV0*np.ones_like(DV), np.max([theta_ODV_SOPDT-theta_OMV_SOPDT,0]), Ts, MVFF_delay)\n",
    "    LL_RT(MVFF_delay,-Kd/Kp,T1p,T1d,Ts,MVFF_LL)\n",
    "    LL_RT(MVFF_LL,1,T2p,T2d,Ts,MV_FF)\n",
    "    \n",
    "    #PID\n",
    "    PID_RT(SP, PV, MAN, MV_MAN, FF, MV_FF, PVInit, Kc, Ti, Td, alpha, MVmin, MVmax, Ts, MV, MVp, MVi, MVd, E)\n",
    "    \n",
    "    #Process\n",
    "    Delay_RT(MV,thetap,Ts, MV_P_delay, MV0) \n",
    "    FO_RT(MV_P_delay, Kp, T1p, Ts, MV_P_FO_delay, 0)\n",
    "    FO_RT(MV_P_FO_delay, 1, T2p, Ts, PV_P, 0)\n",
    "        \n",
    "    #Disturbance\n",
    "    Delay_RT(DV-DV0*np.ones_like(DV), thetad, Ts, MV_D_delay, 0)\n",
    "    FO_RT(MV_D_delay, Kd, T1d, Ts, MV_D_FO_delay, 0)\n",
    "    FO_RT(MV_D_FO_delay, 1, T2d, Ts,PV_D, 0)\n",
    "    \n",
    "    PV.append(PV_P[-1] + PV_D[-1] + PV0 - Kp * MV0)"
   ]
  }
 ],
 "metadata": {
  "kernelspec": {
   "display_name": "Python 3",
   "language": "python",
   "name": "python3"
  },
  "language_info": {
   "codemirror_mode": {
    "name": "ipython",
    "version": 3
   },
   "file_extension": ".py",
   "mimetype": "text/x-python",
   "name": "python",
   "nbconvert_exporter": "python",
   "pygments_lexer": "ipython3",
   "version": "3.12.2"
  }
 },
 "nbformat": 4,
 "nbformat_minor": 2
}
