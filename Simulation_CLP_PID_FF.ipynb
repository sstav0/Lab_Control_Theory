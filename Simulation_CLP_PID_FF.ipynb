{
 "cells": [
  {
   "cell_type": "markdown",
   "metadata": {},
   "source": [
    "# **Simulation in closed-loop**"
   ]
  },
  {
   "cell_type": "code",
   "execution_count": 5,
   "metadata": {},
   "outputs": [],
   "source": [
    "import pandas as pd\n",
    "import numpy as np\n",
    "import matplotlib.pyplot as plt\n",
    "from matplotlib import colors as mcolors\n",
    "\n",
    "import package_LAB\n",
    "from importlib import reload\n",
    "package_LAB = reload(package_LAB)\n",
    "\n",
    "from package_LAB import LL_RT, PID_RT\n",
    "from package_DBR import SelectPath_RT, Delay_RT\n"
   ]
  },
  {
   "cell_type": "code",
   "execution_count": 4,
   "metadata": {},
   "outputs": [],
   "source": [
    "#plotly imports\n",
    "import plotly.graph_objects as go\n",
    "from plotly.subplots import make_subplots\n",
    "from ipywidgets import interactive, VBox"
   ]
  },
  {
   "cell_type": "markdown",
   "metadata": {},
   "source": [
    "## Simulation parameters"
   ]
  },
  {
   "cell_type": "code",
   "execution_count": null,
   "metadata": {},
   "outputs": [],
   "source": [
    "TSim = 1000\n",
    "Ts = 0.5    \n",
    "N = int(TSim/Ts) + 1 "
   ]
  },
  {
   "cell_type": "markdown",
   "metadata": {},
   "source": [
    "## Dynamics and controller parameters"
   ]
  },
  {
   "cell_type": "code",
   "execution_count": null,
   "metadata": {},
   "outputs": [],
   "source": [
    "#DV \n",
    "Kp_ODV_SOPDT = 0.2951290424136788\n",
    "T1_ODV_SOPDT = 182.2549613489765\n",
    "T2_ODV_SOPDT = 13.184430234847984\n",
    "theta_ODV_SOPDT = 28.999891911961512\n",
    "\n",
    "#MV\n",
    "Kp_OMV_SOPDT = 0.30788564834253684\n",
    "T1_OMV_SOPDT = 183.81942938046797\n",
    "T2_OMV_SOPDT = 3.2920224028341535e-12\n",
    "theta_OMV_SOPDT = 20.015407110302775\n",
    "\n",
    "#Operating points \n",
    "DV0 = 50 \n",
    "MV0 = 50\n",
    "PV0 = 49.3\n",
    "\n",
    "# Set maximum and minimum MV values\n",
    "MVmin = 0\n",
    "MVmax = 100"
   ]
  }
 ],
 "metadata": {
  "kernelspec": {
   "display_name": "Python 3",
   "language": "python",
   "name": "python3"
  },
  "language_info": {
   "codemirror_mode": {
    "name": "ipython",
    "version": 3
   },
   "file_extension": ".py",
   "mimetype": "text/x-python",
   "name": "python",
   "nbconvert_exporter": "python",
   "pygments_lexer": "ipython3",
   "version": "3.12.2"
  }
 },
 "nbformat": 4,
 "nbformat_minor": 2
}
