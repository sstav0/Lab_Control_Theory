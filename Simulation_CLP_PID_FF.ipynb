{
 "cells": [
  {
   "cell_type": "markdown",
   "metadata": {},
   "source": [
    "# **Simulation in closed-loop**"
   ]
  },
  {
   "cell_type": "code",
   "execution_count": 5,
   "metadata": {},
   "outputs": [],
   "source": [
    "import numpy as np\n",
    "import matplotlib.pyplot as plt\n",
    "from matplotlib import colors as mcolors\n",
    "\n",
    "import package_LAB\n",
    "from importlib import reload\n",
    "package_LAB = reload(package_LAB)\n",
    "\n",
    "from package_LAB import LL_RT, PID_RT, IMCTuning, Margins, Controller\n",
    "from package_DBR import SelectPath_RT, Delay_RT, FO_RT, Process\n"
   ]
  },
  {
   "cell_type": "code",
   "execution_count": 4,
   "metadata": {},
   "outputs": [],
   "source": [
    "#plotly imports\n",
    "import plotly.graph_objects as go\n",
    "from plotly.subplots import make_subplots\n",
    "from ipywidgets import interactive, VBox"
   ]
  },
  {
   "cell_type": "markdown",
   "metadata": {},
   "source": [
    "## Simulation parameters"
   ]
  },
  {
   "cell_type": "code",
   "execution_count": null,
   "metadata": {},
   "outputs": [],
   "source": [
    "TSim = 2000\n",
    "Ts = 1\n",
    "N = int(TSim/Ts) + 1 "
   ]
  },
  {
   "cell_type": "markdown",
   "metadata": {},
   "source": [
    "## Dynamics and controller parameters"
   ]
  },
  {
   "cell_type": "code",
   "execution_count": null,
   "metadata": {},
   "outputs": [],
   "source": [
    "#DV \n",
    "Kp_ODV_SOPDT = 0.2951290424136788\n",
    "T1_ODV_SOPDT = 182.2549613489765\n",
    "T2_ODV_SOPDT = 13.184430234847984\n",
    "theta_ODV_SOPDT = 28.999891911961512\n",
    "\n",
    "#MV\n",
    "Kp_OMV_SOPDT = 0.30788564834253684\n",
    "T1_OMV_SOPDT = 183.81942938046797\n",
    "T2_OMV_SOPDT = 3.2920224028341535e-12\n",
    "theta_OMV_SOPDT = 20.015407110302775\n",
    "\n",
    "#Operating points \n",
    "DV0 = 50 \n",
    "MV0 = 50\n",
    "PV0 = 49.3\n",
    "\n",
    "# Set maximum and minimum MV values\n",
    "MVmin = 0\n",
    "MVmax = 100\n",
    "\n",
    "# Coefficients\n",
    "alpha = 0.7\n",
    "gamma = 0.5"
   ]
  },
  {
   "cell_type": "markdown",
   "metadata": {},
   "source": [
    "## Scenarios"
   ]
  },
  {
   "cell_type": "code",
   "execution_count": null,
   "metadata": {},
   "outputs": [],
   "source": [
    "scenario = 1\n",
    "\n",
    "# 1 : Response to setpoint change\n",
    "if scenario == 1:\n",
    "    SPPath = {0: PV0, 1000: PV0 + 10}\n",
    "    ManPath = {0: True, 500: False}\n",
    "    MVManPath = {0: MV0}\n",
    "    DVPath = {0: DV0}\n",
    "    FF = False\n",
    "    ManFF = True\n",
    "# 2 : Response to perturbation, with controller in manual mode, without FF\n",
    "elif scenario == 2:\n",
    "    SPPath = {0: PV0}\n",
    "    ManPath = {0: True}\n",
    "    MVManPath = {0: MV0}\n",
    "    DVPath = {0: DV0, 1500: DV0 + 10}\n",
    "    FF = False\n",
    "    ManFF = True\n",
    "# 3 : Response to perturbation, with controller in manual mode, with FF\n",
    "elif scenario == 3:\n",
    "    SPPath = {0: PV0}\n",
    "    ManPath = {0: True}\n",
    "    MVManPath = {0: MV0}\n",
    "    DVPath = {0: DV0, 1500: DV0 + 10}\n",
    "    FF = True\n",
    "    ManFF = True\n",
    "# 4 : Response to perturbation, with controller in auto mode, without FF\n",
    "elif scenario == 4:\n",
    "    SPPath = {0: PV0}\n",
    "    ManPath = {0: False}\n",
    "    MVManPath = {0: MV0}\n",
    "    DVPath = {0: DV0, 1500: DV0 + 10}\n",
    "    FF = False\n",
    "    ManFF = False # Not needed\n",
    "# 5 : Response to perturbation, with controller in auto mode, with FF\n",
    "elif scenario == 5:\n",
    "    SPPath = {0: PV0}\n",
    "    ManPath = {0: False}\n",
    "    MVManPath = {0: MV0}\n",
    "    DVPath = {0: DV0, 1500: DV0 + 10}\n",
    "    FF = True\n",
    "    ManFF = False # Not needed\n",
    "# 6 : Response to perturbation & setpoint change, with controller in auto mode, with FF\n",
    "elif scenario == 6:\n",
    "    SPPath = {0: PV0, 1000: PV0 + 10}\n",
    "    ManPath = {0: False}\n",
    "    MVManPath = {0: MV0}\n",
    "    DVPath = {0: DV0, 1500: DV0 + 10}\n",
    "    FF = True\n",
    "    ManFF = False # Not needed"
   ]
  },
  {
   "cell_type": "markdown",
   "metadata": {},
   "source": [
    "## Simulation"
   ]
  },
  {
   "cell_type": "code",
   "execution_count": null,
   "metadata": {},
   "outputs": [],
   "source": [
    "# IMC tuning\n",
    "Kc, Ti, Td = IMCTuning(Kp_OMV_SOPDT, T1_OMV_SOPDT, T2_OMV_SOPDT, theta_OMV_SOPDT, gamma, model=\"SOPDT\")\n",
    "print(f\"Kc: {Kc}, Ti: {Ti}, Td: {Td}\")"
   ]
  },
  {
   "cell_type": "code",
   "execution_count": null,
   "metadata": {},
   "outputs": [],
   "source": [
    "# Running simulation with chosen scenario\n",
    "\n",
    "t = []\n",
    "\n",
    "SP = []\n",
    "PV = []\n",
    "MAN = []\n",
    "MV_MAN = []\n",
    "DV = []\n",
    "MVFF = []\n",
    "MV = []\n",
    "MVp = []\n",
    "MVi = []\n",
    "MVd = []\n",
    "E = []\n",
    "PV_p = []\n",
    "PV_d = []\n",
    "\n",
    "MVFF_Delay = []\n",
    "MVFF_LL1 = []\n",
    "MV_Delay_P = []\n",
    "MV_FO_P = []\n",
    "MV_Delay_D = []\n",
    "MV_FO_D = []\n",
    "\n",
    "\n",
    "\n",
    "for i in range(0, N):\n",
    "    t.append(i * Ts)\n",
    "    SelectPath_RT(SPPath, t, SP)\n",
    "    SelectPath_RT(ManPath, t, MAN)\n",
    "    SelectPath_RT(MVManPath, t, MV_MAN)\n",
    "    SelectPath_RT(DVPath, t, DV)\n",
    "    \n",
    "    # FeedForward\n",
    "    Delay_RT(DV - DV0*np.ones_like(DV), max(theta_ODV_SOPDT-theta_OMV_SOPDT, 0), Ts, MVFF_Delay)\n",
    "    LL_RT(MVFF_Delay, -Kp_ODV_SOPDT/Kp_OMV_SOPDT, T1_OMV_SOPDT, T1_ODV_SOPDT, Ts, MVFF_LL1)\n",
    "    if FF == True:\n",
    "        LL_RT(MVFF_LL1, 1, T2_OMV_SOPDT, T2_ODV_SOPDT, Ts, MVFF)\n",
    "    else:\n",
    "        LL_RT(MVFF_LL1, 0, T2_OMV_SOPDT, T2_ODV_SOPDT, Ts, MVFF) # Set MVFF to 0 if FF is disabled\n",
    "    \n",
    "    # PID\n",
    "    PID_RT(SP, PV, MAN, MV_MAN, MVFF, Kc, Ti, Td, alpha, Ts, MVmin, MVmax, MV, MVp, MVi, MVd, E, ManFF, PV0)\n",
    "    \n",
    "    # Process\n",
    "    Delay_RT(MV, theta_OMV_SOPDT, Ts, MV_Delay_P, MV0)\n",
    "    FO_RT(MV_Delay_P, Kp_OMV_SOPDT, T1_OMV_SOPDT, Ts, MV_FO_P)\n",
    "    FO_RT(MV_FO_P, 1, T2_OMV_SOPDT, Ts, PV_p)\n",
    "    \n",
    "    # Disturbance\n",
    "    Delay_RT(DV - DV0*np.ones_like(DV), theta_ODV_SOPDT, Ts, MV_Delay_D)\n",
    "    FO_RT(MV_Delay_D, Kp_ODV_SOPDT, T1_ODV_SOPDT, Ts, MV_FO_D)\n",
    "    FO_RT(MV_FO_D, 1, T2_ODV_SOPDT, Ts, PV_d)\n",
    "    \n",
    "    PV.append(PV_p[-1] + PV_d[-1] + PV0 - Kp_OMV_SOPDT*MV0)"
   ]
  }
 ],
 "metadata": {
  "kernelspec": {
   "display_name": "Python 3",
   "language": "python",
   "name": "python3"
  },
  "language_info": {
   "codemirror_mode": {
    "name": "ipython",
    "version": 3
   },
   "file_extension": ".py",
   "mimetype": "text/x-python",
   "name": "python",
   "nbconvert_exporter": "python",
   "pygments_lexer": "ipython3",
   "version": "3.12.2"
  }
 },
 "nbformat": 4,
 "nbformat_minor": 2
}
