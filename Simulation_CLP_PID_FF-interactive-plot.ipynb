{
 "cells": [
  {
   "cell_type": "markdown",
   "metadata": {},
   "source": [
    "# **TCLab Closed-Loop PID with FeedForward**"
   ]
  },
  {
   "cell_type": "code",
   "execution_count": 9,
   "metadata": {},
   "outputs": [],
   "source": [
    "import numpy as np\n",
    "import package_LAB\n",
    "from importlib import reload\n",
    "package_LAB = reload(package_LAB)\n",
    "\n",
    "from package_LAB import IMCTuning, install_and_import, ExperimentControl\n",
    "\n",
    "#plotly imports\n",
    "install_and_import('plotly')\n",
    "install_and_import('ipywidgets')"
   ]
  },
  {
   "cell_type": "markdown",
   "metadata": {},
   "source": [
    "## TCLab parameters"
   ]
  },
  {
   "cell_type": "code",
   "execution_count": 10,
   "metadata": {},
   "outputs": [
    {
     "name": "stdout",
     "output_type": "stream",
     "text": [
      "Kc: 5.33426261068635, TI: 183.81942938047126, TD: 3.2920224028340946e-12\n"
     ]
    }
   ],
   "source": [
    "#DV \n",
    "Kp_ODV_SOPDT = 0.2951290424136788\n",
    "T1_ODV_SOPDT = 182.2549613489765\n",
    "T2_ODV_SOPDT = 13.184430234847984\n",
    "theta_ODV_SOPDT = 28.999891911961512\n",
    "\n",
    "#MV\n",
    "Kp_OMV_SOPDT = 0.30788564834253684\n",
    "T1_OMV_SOPDT = 183.81942938046797\n",
    "T2_OMV_SOPDT = 3.2920224028341535e-12\n",
    "theta_OMV_SOPDT = 20.015407110302775\n",
    "\n",
    "#Operating points \n",
    "DV0 = 50 \n",
    "MV0 = 50\n",
    "PV0 = 49.3\n",
    "\n",
    "# Set maximum and minimum MV values\n",
    "MVmin = 0\n",
    "MVmax = 100\n",
    "\n",
    "# Coefficients\n",
    "alpha = 0.7\n",
    "gamma = 0.5\n",
    "\n",
    "#IMC Tuning\n",
    "Kc, TI, TD = IMCTuning(Kp_OMV_SOPDT, T1_OMV_SOPDT, T2_OMV_SOPDT, theta_OMV_SOPDT, gamma, model=\"SOPDT\")\n",
    "print(f\"Kc: {Kc}, TI: {TI}, TD: {TD}\")"
   ]
  },
  {
   "cell_type": "markdown",
   "metadata": {},
   "source": [
    "## Arrays, Paths and Variables Initialization"
   ]
  },
  {
   "cell_type": "code",
   "execution_count": 11,
   "metadata": {},
   "outputs": [],
   "source": [
    "#Time parameters\n",
    "TSim = 3000\n",
    "Ts = 1    \n",
    "N = int(TSim/Ts) + 1  \n",
    "TimeStep = Ts # Time step for the simulation"
   ]
  },
  {
   "cell_type": "markdown",
   "metadata": {},
   "source": [
    "## PID and plot"
   ]
  },
  {
   "cell_type": "code",
   "execution_count": 12,
   "metadata": {},
   "outputs": [
    {
     "data": {
      "application/vnd.jupyter.widget-view+json": {
       "model_id": "90abe165d9b64fd1b74a524cf6063183",
       "version_major": 2,
       "version_minor": 0
      },
      "text/plain": [
       "VBox(children=(FigureWidget({\n",
       "    'data': [{'name': 'SP',\n",
       "              'type': 'scatter',\n",
       "              'uid'…"
      ]
     },
     "execution_count": 12,
     "metadata": {},
     "output_type": "execute_result"
    }
   ],
   "source": [
    "E = ExperimentControl(\n",
    "    alpha, \n",
    "    gamma, \n",
    "    [Kp_OMV_SOPDT, T1_OMV_SOPDT, T2_OMV_SOPDT, theta_OMV_SOPDT], \n",
    "    [Kp_ODV_SOPDT, T1_ODV_SOPDT, T2_ODV_SOPDT, theta_ODV_SOPDT], \n",
    "    DV0, \n",
    "    MV0,\n",
    "    PV0, \n",
    "    MVmin, \n",
    "    MVmax, \n",
    "    TSim, \n",
    "    Ts\n",
    ")\n",
    "\n",
    "E.createPlot()"
   ]
  }
 ],
 "metadata": {
  "kernelspec": {
   "display_name": "Python 3",
   "language": "python",
   "name": "python3"
  },
  "language_info": {
   "codemirror_mode": {
    "name": "ipython",
    "version": 3
   },
   "file_extension": ".py",
   "mimetype": "text/x-python",
   "name": "python",
   "nbconvert_exporter": "python",
   "pygments_lexer": "ipython3",
   "version": "3.10.0"
  }
 },
 "nbformat": 4,
 "nbformat_minor": 2
}
