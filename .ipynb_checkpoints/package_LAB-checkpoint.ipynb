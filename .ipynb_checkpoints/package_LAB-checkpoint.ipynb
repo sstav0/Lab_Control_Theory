{
 "cells": [
  {
   "cell_type": "markdown",
   "id": "15c5b793-3932-46e6-b9d1-658fff9b5c22",
   "metadata": {},
   "source": [
    "# **package_LAB**"
   ]
  },
  {
   "cell_type": "code",
   "execution_count": 1,
   "id": "adb946fd-9acd-4de6-adb7-37472b514da7",
   "metadata": {},
   "outputs": [],
   "source": [
    "import pandas as pd\n",
    "import numpy as np\n",
    "import matplotlib.pyplot as plt\n",
    "from matplotlib import colors as mcolors\n",
    "\n",
    "import package_LAB\n",
    "import package_DBR\n",
    "from package_DBR import myRound, SelectPath_RT, Delay_RT, FO_RT, FOPDT, SOPDT, FOPDT_cost, SOPDT_cost, Process, Bode\n",
    "from importlib import reload\n",
    "package_LAB = reload(package_LAB)"
   ]
  },
  {
   "cell_type": "markdown",
   "id": "74fac686-7c3d-48fd-96a0-a496b735aa88",
   "metadata": {},
   "source": [
    "## LL_RT()"
   ]
  },
  {
   "cell_type": "code",
   "execution_count": 2,
   "id": "847343a1-28ea-46ea-90d7-cfdbbaca4f8f",
   "metadata": {},
   "outputs": [
    {
     "ename": "NameError",
     "evalue": "name 'LL_RT' is not defined",
     "output_type": "error",
     "traceback": [
      "\u001b[1;31m---------------------------------------------------------------------------\u001b[0m",
      "\u001b[1;31mNameError\u001b[0m                                 Traceback (most recent call last)",
      "Cell \u001b[1;32mIn[2], line 1\u001b[0m\n\u001b[1;32m----> 1\u001b[0m help(LL_RT)\n",
      "\u001b[1;31mNameError\u001b[0m: name 'LL_RT' is not defined"
     ]
    }
   ],
   "source": [
    "help(LL_RT)"
   ]
  },
  {
   "cell_type": "code",
   "execution_count": null,
   "id": "620cc96a-471f-4bcb-8222-b395a4828217",
   "metadata": {},
   "outputs": [],
   "source": [
    "TSim = 100\n",
    "Ts = 1\n",
    "N = int(TSim/Ts) + 1\n",
    "\n",
    "# Path for MV\n",
    "MVPath = {0: 0, 5: 1, 50: 2, 80: 3, TSim: 3}\n",
    "\n",
    "t = []\n",
    "MV = []\n",
    "MVDelay = []\n",
    "PV_EBD_1 = []\n",
    "PV_EBD_2 = []\n",
    "PV_EBD_3 = []\n",
    "# PV_EFD_1 = []\n",
    "# PV_TRAP_1 = []\n",
    "\n",
    "# Parameters\n",
    "Kp = 1\n",
    "Tlead_1 = 15\n",
    "Tlead_2 = 5\n",
    "Tlead_3 = -2\n",
    "Tlag = 10\n",
    "theta = 10\n",
    "\n",
    "for i in range(0,N):\n",
    "    t.append(i*Ts)\n",
    "    SelectPath_RT(MVPath,t,MV)\n",
    "    Delay_RT(MV,theta,Ts,MVDelay)\n",
    "    LL_RT(MVDelay, Kp, Tlead_1, Tlag, Ts, PV_EBD_1)\n",
    "    LL_RT(MVDelay, Kp, Tlead_2, Tlag, Ts, PV_EBD_2)\n",
    "    LL_RT(MVDelay, Kp, Tlead_3, Tlag, Ts, PV_EBD_3)\n",
    "    #LL_RT(MVDelay, Kp, Tlead, Tlag, Ts, PV_EFD, 0, 'EFD')\n",
    "    #LL_RT(MVDelay, Kp, Tlead, Tlag, Ts, PV_TRAP, 0, 'TRAP')\n",
    "    \n",
    "plt.figure(figsize = (15,9))\n",
    "\n",
    "plt.subplot(2,1,1)\n",
    "plt.step(t,MV,'b-',label='MV',where='post')\n",
    "plt.step(t,MVDelay,'b-',linewidth=0.5,label='MV plus delay',where='post')\n",
    "plt.ylabel('Value of MV')\n",
    "plt.title('Lead-Lag plus delay response')\n",
    "plt.legend(loc='best')\n",
    "plt.xlim([0, TSim])\n",
    "\n",
    "plt.subplot(2,1,2)\n",
    "plt.step(t,PV_EBD_1,'g-',label='Lead-Lag response plus delay (1) (EBD)',where='post')\n",
    "plt.step(t,PV_EBD_2,'k-',label='Lead-Lag response plus delay (2) (EBD)',where='post')\n",
    "plt.step(t,PV_EBD_3,'r-',label='Lead-Lag response plus delay (3) (EBD)',where='post')\n",
    "#plt.step(t,PV_EFD,'lime',label='Lead-Lag response plus delay (EFD)',where='post')\n",
    "#plt.step(t,PV_TRAP,'springgreen',label='Lead-Lag response plus delay (TRAP)',where='post')\n",
    "plt.ylabel('Value of PV')\n",
    "plt.xlabel('Time [s]')\n",
    "plt.legend(loc='best')\n",
    "plt.xlim([0, TSim])"
   ]
  }
 ],
 "metadata": {
  "kernelspec": {
   "display_name": "Python 3 (ipykernel)",
   "language": "python",
   "name": "python3"
  },
  "language_info": {
   "codemirror_mode": {
    "name": "ipython",
    "version": 3
   },
   "file_extension": ".py",
   "mimetype": "text/x-python",
   "name": "python",
   "nbconvert_exporter": "python",
   "pygments_lexer": "ipython3",
   "version": "3.11.5"
  }
 },
 "nbformat": 4,
 "nbformat_minor": 5
}
