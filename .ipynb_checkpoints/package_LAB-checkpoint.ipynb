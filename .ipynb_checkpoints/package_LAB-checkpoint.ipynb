{
 "cells": [
  {
   "cell_type": "markdown",
   "id": "15c5b793-3932-46e6-b9d1-658fff9b5c22",
   "metadata": {},
   "source": [
    "# **package_LAB**"
   ]
  },
  {
   "cell_type": "code",
   "execution_count": null,
   "id": "adb946fd-9acd-4de6-adb7-37472b514da7",
   "metadata": {},
   "outputs": [],
   "source": [
    "import package_LAB"
   ]
  }
 ],
 "metadata": {
  "kernelspec": {
   "display_name": "Python 3 (ipykernel)",
   "language": "python",
   "name": "python3"
  },
  "language_info": {
   "codemirror_mode": {
    "name": "ipython",
    "version": 3
   },
   "file_extension": ".py",
   "mimetype": "text/x-python",
   "name": "python",
   "nbconvert_exporter": "python",
   "pygments_lexer": "ipython3",
   "version": "3.11.5"
  }
 },
 "nbformat": 4,
 "nbformat_minor": 5
}
