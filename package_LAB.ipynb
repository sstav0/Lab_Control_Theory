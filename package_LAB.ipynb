{
 "cells": [
  {
   "cell_type": "markdown",
   "id": "15c5b793-3932-46e6-b9d1-658fff9b5c22",
   "metadata": {},
   "source": [
    "# **package_LAB**"
   ]
  },
  {
   "cell_type": "code",
   "execution_count": 157,
   "id": "adb946fd-9acd-4de6-adb7-37472b514da7",
   "metadata": {},
   "outputs": [],
   "source": [
    "import package_LAB\n",
    "from importlib import reload\n",
    "package_LAB = reload(package_LAB)\n",
    "\n",
    "from package_LAB import LL_RT, PID_RT\n",
    "from package_DBR import SelectPath_RT, Delay_RT"
   ]
  },
  {
   "cell_type": "code",
   "execution_count": 158,
   "id": "28b393ff",
   "metadata": {},
   "outputs": [],
   "source": [
    "#plotly imports\n",
    "import plotly.graph_objects as go\n",
    "from plotly.subplots import make_subplots\n",
    "from ipywidgets import interactive, VBox"
   ]
  },
  {
   "cell_type": "markdown",
   "id": "74fac686-7c3d-48fd-96a0-a496b735aa88",
   "metadata": {},
   "source": [
    "## LL_RT()"
   ]
  },
  {
   "cell_type": "code",
   "execution_count": 159,
   "id": "847343a1-28ea-46ea-90d7-cfdbbaca4f8f",
   "metadata": {},
   "outputs": [
    {
     "name": "stdout",
     "output_type": "stream",
     "text": [
      "Help on function LL_RT in module package_LAB:\n",
      "\n",
      "LL_RT(MV, Kp, TLead, TLag, Ts, PV, PVInit=0, method='EBD')\n",
      "    The function \"FO_RT\" needs to be included in a \"for or while loop\".\n",
      "\n",
      "    :MV: input vector\n",
      "    :Kp: process gain\n",
      "    :TLead: Lead time constant [s]\n",
      "    :TLag: Lag time constant [s]\n",
      "    :Ts: sampling period [s]\n",
      "    :PV: output vector\n",
      "    :PVInit: (optional: default value is 0)\n",
      "    :method: discretization method (optional: default value is 'EBD')\n",
      "        EBD: Euler Backward difference\n",
      "        EFD: Euler Forward difference\n",
      "        TRAP: Trapezoidal method\n",
      "\n",
      "    The function \"FO_RT\" appends a value to the output vector \"PV\".\n",
      "    The appended value is obtained from a recurrent equation that depends on the discretization method.\n",
      "\n"
     ]
    }
   ],
   "source": [
    "help(LL_RT)"
   ]
  },
  {
   "cell_type": "code",
   "execution_count": 160,
   "id": "620cc96a-471f-4bcb-8222-b395a4828217",
   "metadata": {},
   "outputs": [],
   "source": [
    "# Define simulation parameters\n",
    "TSim = 100\n",
    "Ts = 0.5\n",
    "N = int(TSim / Ts) + 1\n",
    "theta = 5\n",
    "\n",
    "# Define MV path\n",
    "MVPath = {0: 0, 5: 1, 50: 2, 80: 3, TSim: 3}\n",
    "\n",
    "# Initialize lists\n",
    "t = []\n",
    "MV = []\n",
    "MVDelay = []\n",
    "PV_EBD_1 = []\n",
    "\n",
    "# Generate time vector and simulate MV and MV_Delay\n",
    "for i in range(0, N):\n",
    "    t.append(i * Ts)\n",
    "    SelectPath_RT(MVPath, t, MV)\n",
    "    Delay_RT(MV, theta, Ts, MVDelay)\n"
   ]
  },
  {
   "cell_type": "code",
   "execution_count": 161,
   "id": "14dd839f",
   "metadata": {},
   "outputs": [
    {
     "data": {
      "application/vnd.jupyter.widget-view+json": {
       "model_id": "2d4f2e92602b4c3b801b359acd1109da",
       "version_major": 2,
       "version_minor": 0
      },
      "text/plain": [
       "VBox(children=(FigureWidget({\n",
       "    'data': [{'showlegend': False,\n",
       "              'type': 'scatter',\n",
       "            …"
      ]
     },
     "execution_count": 161,
     "metadata": {},
     "output_type": "execute_result"
    }
   ],
   "source": [
    "# Create figure\n",
    "f = go.FigureWidget(make_subplots(rows=2, cols=1, specs = [[{}], [{}]], vertical_spacing = 0.1, row_heights=[0.5, 0.5]))\n",
    "\n",
    "f.add_trace(go.Scatter(x=t, y=MVDelay, showlegend=False), row=1, col=1)\n",
    "f.add_trace(go.Scatter(x=t, y=PV_EBD_1, showlegend=False), row=2, col=1)\n",
    "    \n",
    "\n",
    "# Add PV_EBD_1 traces for different lead times\n",
    "def update_TLead(TLead, TLag, Kp):\n",
    "    \n",
    "    # Reset list\n",
    "    PV_EBD_1 = []\n",
    "    \n",
    "    # Generate time vector and simulate MV, MV_Delay, and PV_EBD_1\n",
    "    for i in range(0, N):\n",
    "        LL_RT(MVDelay[0:i+1], Kp, TLead, TLag, Ts, PV_EBD_1)\n",
    "\n",
    "    f.data[1].y = PV_EBD_1\n",
    "    \n",
    "# Update layout\n",
    "f['layout'].update(height=800, width=800)\n",
    "f['layout']['xaxis1'].update(title='Time (s)')\n",
    "f['layout']['yaxis1'].update(title='MV_Delay')\n",
    "f['layout']['xaxis2'].update(title='Time (s)')\n",
    "f['layout']['yaxis2'].update(title='PV_EBD_1')\n",
    "\n",
    "# Create interactive widget\n",
    "TLead_slider = interactive(update_TLead, TLead=(0, 50, 1), TLag=(0, 50, 1), Kp=(0, 10, 0.1))\n",
    "\n",
    "# Display figure and widget\n",
    "vb = VBox([f, TLead_slider])\n",
    "vb.layout.align_items = 'center'\n",
    "vb"
   ]
  },
  {
   "cell_type": "markdown",
   "id": "8b172513",
   "metadata": {},
   "source": [
    "## PID_RT"
   ]
  },
  {
   "cell_type": "code",
   "execution_count": 162,
   "id": "0b15ec67",
   "metadata": {},
   "outputs": [
    {
     "name": "stdout",
     "output_type": "stream",
     "text": [
      "Help on function PID_RT in module package_LAB:\n",
      "\n",
      "PID_RT(SP, PV, Man, MVMan, MVFF, Kc, Ti, Td, alpha, Ts, MVMin, MVMax, MV, MVP, MVI, MVD, E, ManFF=False, PVInit=0, methodI='EBD', methodD='EBD')\n",
      "    The function \"PID_RT\" needs to be included in a \"for or while loop\".\n",
      "\n",
      "    :SP: SetPoint vector\n",
      "    :PV: Process Value vector\n",
      "    :Man: Manual controller mode vector [bool]\n",
      "    :MVMan: Manual value for MV vector\n",
      "    :MVFF: FeedForward vector\n",
      "\n",
      "    :Kc: Controller gain [float]\n",
      "    :Ti: Integral time constant [s]\n",
      "    :Td: Derivative time constant [s]\n",
      "    :alpha: Proportionality factor for Tfd = alpha*Td where Tfd is the derivative filter time constant [s]\n",
      "    :Ts: Sampling period [s]\n",
      "\n",
      "    :MVMin: Minimum value for MV (for saturation of MV) [float]\n",
      "    :MVMax: Maximum value for MV (for saturation of MV) [float]\n",
      "\n",
      "    :MV: Manipulated Value vector\n",
      "    :MVP: Proportional part of MV vector\n",
      "    :MVI: Integral part of MV vector\n",
      "    :MVD: Derivative part of MV vector\n",
      "    :E: Control Error vector\n",
      "\n",
      "    :ManFF: Activating FeedForward in manual mode (optional: default False) [bool]\n",
      "    :PVInit: Initial value for PV (optional: default 0) [int]\n",
      "    :methodI: Discretization method for Integral action (optional: default 'EBD') [string]\n",
      "        EBD : Euler Backward Difference\n",
      "        TRAP : Trapezoids\n",
      "    :methodD: Discretization method for Derivative action (optional: default 'EBD') [string]\n",
      "        EBD : Euler Backward Difference\n",
      "        TRAP : Trapezoids\n",
      "\n",
      "    The function \"PID_RT\" appends new values to the vectors \"MV\", \"MVP\", \"MVI\", \"MVD\", and \"E\".\n",
      "\n"
     ]
    }
   ],
   "source": [
    "help(PID_RT)"
   ]
  },
  {
   "cell_type": "code",
   "execution_count": 169,
   "id": "05a8ad04",
   "metadata": {},
   "outputs": [
    {
     "data": {
      "application/vnd.jupyter.widget-view+json": {
       "model_id": "7c822b23a3d34f4ebcaf3e58c919920c",
       "version_major": 2,
       "version_minor": 0
      },
      "text/plain": [
       "VBox(children=(FigureWidget({\n",
       "    'data': [{'name': 'SP',\n",
       "              'type': 'scatter',\n",
       "              'uid'…"
      ]
     },
     "execution_count": 169,
     "metadata": {},
     "output_type": "execute_result"
    }
   ],
   "source": [
    "# Define simulation parameters\n",
    "TSim = 300\n",
    "Ts = 0.5\n",
    "N = int(TSim / Ts) + 1\n",
    "\n",
    "# Initialize lists\n",
    "t = []\n",
    "SP = []\n",
    "PV = []\n",
    "Man = []\n",
    "MVMan = []\n",
    "MVFF = []\n",
    "MV = []\n",
    "MVp = []\n",
    "MVi = []\n",
    "MVd = []\n",
    "E = []\n",
    "\n",
    "\n",
    "# Set maximum and minimum MV values\n",
    "MVmin = 0\n",
    "MVmax = 100\n",
    "\n",
    "# Define paths for manual mode\n",
    "ManPath = {0: 0, 130: True, 170: False} \n",
    "MVManPath = {0: 30}\n",
    "\n",
    "# Define paths for SP and PV\n",
    "SPPath = {0: 50, 5: 60} \n",
    "PVpath = {0: 50}   \n",
    "\n",
    "MVFFPath = {0: 0, TSim: 0}\n",
    "\n",
    "for i in range(0, N):\n",
    "    t.append(i * Ts)\n",
    "    SelectPath_RT(SPPath, t, SP)\n",
    "    SelectPath_RT(PVpath, t, PV)\n",
    "    SelectPath_RT(ManPath, t, Man)\n",
    "    SelectPath_RT(MVManPath, t, MVMan)\n",
    "    SelectPath_RT(MVFFPath, t, MVFF)\n",
    "\n",
    "\n",
    "# Add PV_EBD_1 traces for different TD, Kc and alpha values\n",
    "def update_PID(Kc, TD, alpha):\n",
    "        \n",
    "    # Reset list\n",
    "    MV = []\n",
    "    MVp = []\n",
    "    MVi = []\n",
    "    MVd = []\n",
    "    E = []\n",
    "\n",
    "    TI = TD/0.25\n",
    "    \n",
    "    # Generate time vector and simulate MV, MVp, MVi, MVd, and E\n",
    "    for i in range(0, N):\n",
    "        PID_RT(SP[0:i+1], PV[0:i+1], Man[0:i+1], MVMan[0:i+1], MVFF[0:i+1], Kc, TI, TD, alpha, Ts, MVmin, MVmax, MV, MVp, MVi, MVd, E)\n",
    "    \n",
    "    # Update traces\n",
    "    fig.data[0].y = SP\n",
    "    fig.data[1].y = E\n",
    "    fig.data[2].y = Man\n",
    "    fig.data[3].y = MV\n",
    "    fig.data[4].y = MVp\n",
    "    fig.data[5].y = MVi\n",
    "    fig.data[6].y = MVd\n",
    "\n",
    "\n",
    "# Create figure\n",
    "fig = go.FigureWidget(make_subplots(rows=3, cols=1, specs = [[{}], [{}], [{}]], vertical_spacing = 0.2, row_heights=[0.45, 0.45, 0.1], subplot_titles=(\"Input and error signals\", \"MV components\")))\n",
    "fig.add_trace(go.Scatter(x=t, y=SP, name=\"SP\"), row=1, col=1)\n",
    "fig.add_trace(go.Scatter(x=t, y=E, name=\"E\"), row=1, col=1)\n",
    "fig.add_trace(go.Scatter(x=t, y=Man, name=\"Man\"), row=3, col=1)\n",
    "fig.add_trace(go.Scatter(x=t, y=MV, name=\"MV\"), row=2, col=1)\n",
    "fig.add_trace(go.Scatter(x=t, y=MVp, name=\"MVp\", line=dict(dash='dash')), row=2, col=1)\n",
    "fig.add_trace(go.Scatter(x=t, y=MVi, name=\"MVi\", line=dict(dash='dash')), row=2, col=1)\n",
    "fig.add_trace(go.Scatter(x=t, y=MVd, name=\"MVd\", line=dict(dash='dash')), row=2, col=1)\n",
    "\n",
    "\n",
    "# Update layout\n",
    "fig['layout'].update(height=800, width=800)\n",
    "fig['layout']['xaxis1'].update(title='Time (s)')\n",
    "fig['layout']['xaxis2'].update(title='Time (s)')\n",
    "\n",
    "# Create interactive widget\n",
    "TLead_slider = interactive(update_PID, Kc=(0, 5, 0.1), TD=(1, 51, 1), alpha=(0.2, 0.9, 0.1))\n",
    "\n",
    "# Display figure and widget\n",
    "vb = VBox([fig, TLead_slider])\n",
    "vb.layout.align_items = 'center'\n",
    "vb"
   ]
  }
 ],
 "metadata": {
  "kernelspec": {
   "display_name": "Python 3 (ipykernel)",
   "language": "python",
   "name": "python3"
  },
  "language_info": {
   "codemirror_mode": {
    "name": "ipython",
    "version": 3
   },
   "file_extension": ".py",
   "mimetype": "text/x-python",
   "name": "python",
   "nbconvert_exporter": "python",
   "pygments_lexer": "ipython3",
   "version": "3.12.2"
  }
 },
 "nbformat": 4,
 "nbformat_minor": 5
}
